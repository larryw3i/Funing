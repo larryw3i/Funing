{
 "cells": [
  {
   "cell_type": "code",
   "execution_count": 2,
   "metadata": {},
   "outputs": [],
   "source": [
    "from pony.orm import *\n",
    "from tkinter import messagebox\n",
    "import tkinter as tk\n",
    "from tkinter import *\n",
    "from ui.main_ui import MainUI\n",
    "from langcodes import Language\n",
    "import gettext\n",
    "import sys,os\n",
    "from models import funing_m as fm\n",
    "from models.funing_m import Person\n",
    "import  tkinter.filedialog as tkf\n",
    "import cv2\n",
    "from PIL import Image , ImageTk\n",
    "import dlib\n",
    "import face_recognition\n",
    "from _ui.locale import _\n",
    "from datetime import datetime , date\n",
    "import json\n",
    "from setting import setting_yml, setting_path, face_encodings_path\n",
    "import numpy as np\n",
    "import pickle\n",
    "import yaml\n",
    "import uuid"
   ]
  },
  {
   "cell_type": "code",
   "execution_count": null,
   "metadata": {},
   "outputs": [],
   "source": []
  }
 ],
 "metadata": {
  "kernelspec": {
   "display_name": "Python 3",
   "language": "python",
   "name": "python3"
  },
  "language_info": {
   "codemirror_mode": {
    "name": "ipython",
    "version": 3
   },
   "file_extension": ".py",
   "mimetype": "text/x-python",
   "name": "python",
   "nbconvert_exporter": "python",
   "pygments_lexer": "ipython3",
   "version": "3.8.6"
  }
 },
 "nbformat": 4,
 "nbformat_minor": 4
}
